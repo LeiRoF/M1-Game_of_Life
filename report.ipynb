{
 "cells": [
  {
   "cell_type": "markdown",
   "metadata": {},
   "source": [
    "---\n",
    "\n",
    "Conway's Game of Life\n",
    "===\n",
    "\n",
    "Project performed by Vincent Foriel - 09/03/2022\n",
    "\n",
    "---\n"
   ]
  },
  {
   "cell_type": "markdown",
   "metadata": {},
   "source": [
    "We consider a discret time and space 2D-system in wich each each cell can be 0 (dead) or 1 (alive).\n",
    "The goal is to study the évlution of this system that can have a very complexe behavior even with very simple rules."
   ]
  },
  {
   "cell_type": "markdown",
   "metadata": {},
   "source": [
    "# Activity 1\n",
    "---"
   ]
  },
  {
   "cell_type": "markdown",
   "metadata": {},
   "source": [
    "## Q1\n",
    "\n",
    "I choosed the Conway's Game of Life subject"
   ]
  },
  {
   "cell_type": "markdown",
   "metadata": {},
   "source": [
    "## Q2\n",
    "\n",
    "It existe an ininite amount of stable and periodic structures. The smallest and simplest ones can be found [here](https://en.wikipedia.org/wiki/Conway%27s_Game_of_Life)"
   ]
  },
  {
   "cell_type": "markdown",
   "metadata": {},
   "source": [
    "## Q3\n",
    "\n",
    "Symbolic rules of the studied system:\n",
    "- If a living cell have 2 or 3 living neighbours, it stay alive, otherwise, it dies\n",
    "- If a dead cell have 3 living neighbours, it comes alive, otherwise, it stay dead\n",
    "\n",
    "Global transition rule:\n",
    "\n",
    "$$ \\phi(c)_{n_1,n_2} = \\begin{cases}\n",
    "    1 & \\text{ if } \\bigg(\\sum_{i=-1}^1 \\sum_{j=-1}^1 c_{n_1+i,n_2+j} \\bigg) - c_{n_1,n_2} = 3\\\\\n",
    "    c_{n_1,n_2} & \\text{ if } \\bigg(\\sum_{i=-1}^1 \\sum_{j=-1}^1 c_{n_1+i,n_2+j} \\bigg) - c_{n_1,n_2} = 2\\\\\n",
    "    0 & \\text{ otherwise}\n",
    "\\end{cases}\n",
    "$$\n",
    "\n",
    "> TODO : or the generating rule if your system is symbolic (if this one is a cellular automaton find the local\n",
    "rule F and the global transition rule φ)."
   ]
  },
  {
   "cell_type": "markdown",
   "metadata": {},
   "source": [
    "## Q4\n",
    "\n",
    "> TODO : For symbolic systems, try to find patterns stable by the iteration (maybe by simplifying your\n",
    "system by reduction of the generating rule and/or by choosing a small grid). Code a small\n",
    "program searching stable patterns by testing successively all the possibilities or by testing a lot\n",
    "of random configurations (generally, these needs to consider a simplified version of the system).\n",
    "You can also search in the literature the existence of known stable patterns, in that case verify\n",
    "explicitly the stability by applying the evolution rule."
   ]
  },
  {
   "cell_type": "markdown",
   "metadata": {},
   "source": [
    "---\n",
    "\n",
    "# Activity 2"
   ]
  },
  {
   "cell_type": "markdown",
   "metadata": {},
   "source": [
    "## Q1\n",
    "\n",
    "> TODO : If your chosen system is discrete in time or symbolic, code a program to simulate the iterations\n",
    "of your system for any initial condition."
   ]
  },
  {
   "cell_type": "markdown",
   "metadata": {},
   "source": [
    "## Q2\n",
    "\n",
    "> TODO : Draw the evolution of the grid for 2D symbolic systems"
   ]
  },
  {
   "cell_type": "markdown",
   "metadata": {},
   "source": [
    "---\n",
    "\n",
    "# Activity 3"
   ]
  },
  {
   "cell_type": "markdown",
   "metadata": {},
   "source": [
    "> TODO : If your dynamical system is symbolic, read the sections of activities 1 and 3 concerning con-\n",
    "tinuous and discrete time dynamical systems, and find out if your system is not an idealisa-\n",
    "tion/approximation of a continuous or discrete time dynamical system."
   ]
  },
  {
   "cell_type": "markdown",
   "metadata": {},
   "source": [
    "---\n",
    "\n",
    "# Activity 4"
   ]
  },
  {
   "cell_type": "markdown",
   "metadata": {},
   "source": [
    "Done (cf. distance.py)"
   ]
  },
  {
   "cell_type": "markdown",
   "metadata": {},
   "source": [
    "---\n",
    "\n",
    "# Activity 5"
   ]
  },
  {
   "cell_type": "markdown",
   "metadata": {},
   "source": [
    "Nothing to do"
   ]
  },
  {
   "cell_type": "markdown",
   "metadata": {},
   "source": [
    "---\n",
    "\n",
    "# Activity 6"
   ]
  },
  {
   "cell_type": "markdown",
   "metadata": {},
   "source": [
    "> TODO : Code functions to compute an evaluation of the mean Lyapunov exponent and compare the results\n",
    "for different definitions"
   ]
  }
 ],
 "metadata": {
  "language_info": {
   "name": "python"
  },
  "orig_nbformat": 4
 },
 "nbformat": 4,
 "nbformat_minor": 2
}
