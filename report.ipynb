{
 "cells": [
  {
   "cell_type": "markdown",
   "metadata": {},
   "source": [
    "---\n",
    "\n",
    "Conway's Game of Life\n",
    "===\n",
    "\n",
    "Project performed by Vincent Foriel - 09/03/2022\n",
    "\n",
    "---\n"
   ]
  },
  {
   "cell_type": "markdown",
   "metadata": {},
   "source": [
    "We consider a discret time and space 2D-system in wich each each cell can be 0 (dead) or 1 (alive).\n",
    "The goal is to study the évlution of this system that can have a very complexe behavior even with very simple rules."
   ]
  },
  {
   "cell_type": "markdown",
   "metadata": {},
   "source": [
    "# Activity 1\n",
    "---"
   ]
  },
  {
   "cell_type": "markdown",
   "metadata": {},
   "source": [
    "## Q1\n",
    "\n",
    "I choosed the Conway's Game of Life subject"
   ]
  },
  {
   "cell_type": "markdown",
   "metadata": {},
   "source": [
    "## Q2\n",
    "\n",
    "It existe an ininite amount of stable and periodic structures. The smallest and simplest ones can be found [here](https://en.wikipedia.org/wiki/Conway%27s_Game_of_Life)"
   ]
  },
  {
   "cell_type": "markdown",
   "metadata": {},
   "source": [
    "## Q3\n",
    "\n",
    "Symbolic rules of the studied system:\n",
    "- If a living cell have 2 or 3 living neighbours, it stay alive, otherwise, it dies\n",
    "- If a dead cell have 3 living neighbours, it comes alive, otherwise, it stay dead\n",
    "\n",
    "Global transition rule:\n",
    "\n",
    "$$ \\phi(c)_{n_1,n_2} = \\begin{cases}\n",
    "    1 & \\text{ if } \\bigg(\\sum_{i=-1}^1 \\sum_{j=-1}^1 c_{n_1+i,n_2+j} \\bigg) - c_{n_1,n_2} = 3\\\\\n",
    "    c_{n_1,n_2} & \\text{ if } \\bigg(\\sum_{i=-1}^1 \\sum_{j=-1}^1 c_{n_1+i,n_2+j} \\bigg) - c_{n_1,n_2} = 2\\\\\n",
    "    0 & \\text{ otherwise}\n",
    "\\end{cases}"
   ]
  },
  {
   "cell_type": "markdown",
   "metadata": {},
   "source": []
  }
 ],
 "metadata": {
  "language_info": {
   "name": "python"
  },
  "orig_nbformat": 4
 },
 "nbformat": 4,
 "nbformat_minor": 2
}
